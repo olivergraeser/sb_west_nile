{
 "cells": [
  {
   "cell_type": "code",
   "execution_count": null,
   "metadata": {
    "collapsed": true
   },
   "outputs": [],
   "source": [
    "import numpy as np\n",
    "import csv\n",
    "import pandas as pd\n",
    "from keras.models import Sequential\n",
    "from keras.layers.core import Dense, Dropout, Activation\n",
    "from keras.utils import np_utils\n",
    "from sklearn import metrics\n",
    "from sklearn.cross_validation import KFold\n",
    "from sklearn.preprocessing import StandardScaler\n",
    "from datetime import date, datetime\n",
    "from copy import deepcopy\n",
    "from utils import read_basic_dataset"
   ]
  },
  {
   "cell_type": "code",
   "execution_count": null,
   "metadata": {
    "collapsed": true
   },
   "outputs": [],
   "source": [
    "from matplotlib import pyplot as plt\n",
    "%matplotlib inline"
   ]
  },
  {
   "cell_type": "code",
   "execution_count": null,
   "metadata": {
    "collapsed": true
   },
   "outputs": [],
   "source": [
    "training_features, training_target, test_features = read_basic_dataset()"
   ]
  },
  {
   "cell_type": "markdown",
   "metadata": {},
   "source": [
    "# Reading Dates per Week in Training Data"
   ]
  },
  {
   "cell_type": "code",
   "execution_count": null,
   "metadata": {},
   "outputs": [],
   "source": [
    "counts_per_weeek = training_features.groupby(['year','week',  'Date']).sum()\\\n",
    "    .reset_index().groupby(['year', 'week']).count()\\\n",
    "    .reset_index()[['year','week','Date']].pivot_table(index='week', columns='year', values='Date')\\\n",
    "    .fillna(0)\n",
    "counts_per_weeek.plot()\n",
    "plt.show()"
   ]
  },
  {
   "cell_type": "code",
   "execution_count": null,
   "metadata": {
    "collapsed": true
   },
   "outputs": [],
   "source": [
    "sum_features = new_training_features.groupby(['year', 'week']).sum()[['NumMosquitos', 'WnvPresent']]\n",
    "count_features = new_training_features.groupby(['year', 'week', 'Trap']).count().reset_index().groupby(['year', 'week']).count()[['Trap']]\n",
    "max_features = new_training_features.groupby(['year', 'week', 'Trap']).max().reset_index().groupby(['year', 'week']).sum()[['WnvPresent']]\n",
    "max_features.columns=['WnvPresentTraps']\n",
    "max_features\n",
    "sum_count_features = pd.merge(left=sum_features, right=count_features, how='inner', left_index=True, right_index=True)\n",
    "all_features = pd.merge(left=sum_count_features, right=max_features, how='inner', left_index=True, right_index=True)\n",
    "all_features['MosquitosPerTrap'] = all_features.apply(lambda _: _['NumMosquitos'] / _['Trap'], axis=1)\n",
    "all_features['WnvPerTrap'] = all_features.apply(lambda _: _['WnvPresent'] / _['Trap'], axis=1)\n",
    "all_features['WnvPerMosquito'] = all_features.apply(lambda _: _['WnvPresent'] / _['NumMosquitos'], axis=1)\n",
    "\n",
    "\n",
    "\n"
   ]
  },
  {
   "cell_type": "code",
   "execution_count": null,
   "metadata": {},
   "outputs": [],
   "source": [
    "num_mosquitos = all_features[['NumMosquitos']].reset_index()\\\n",
    "                .pivot_table(index='week', columns='year', values='NumMosquitos').fillna(0)\n",
    "num_mosquitos.plot()\n"
   ]
  },
  {
   "cell_type": "code",
   "execution_count": null,
   "metadata": {},
   "outputs": [],
   "source": [
    "wnv_present = all_features[['WnvPresent']].reset_index()\\\n",
    "                .pivot_table(index='week', columns='year', values='WnvPresent').fillna(0)\n",
    "wnv_present.plot()\n",
    "plt.ylabel('Sum(WnvPresent)')\n",
    "plt.savefig('sample.pdf')\n",
    "\n",
    "#wnv_present\n"
   ]
  },
  {
   "cell_type": "code",
   "execution_count": null,
   "metadata": {},
   "outputs": [],
   "source": [
    "wnv_present_pm = all_features[['WnvPerMosquito']].reset_index()\\\n",
    "                .pivot_table(index='week', columns='year', values='WnvPerMosquito').fillna(0)\n",
    "wnv_present_pm.plot()\n",
    "plt.ylabel('VirusPerMosquito')\n",
    "plt.savefig('VirusPerMosquito.pdf')\n",
    "\n",
    "\n",
    "#wnv_present_pm\n",
    "\n"
   ]
  },
  {
   "cell_type": "code",
   "execution_count": null,
   "metadata": {
    "collapsed": true
   },
   "outputs": [],
   "source": []
  }
 ],
 "metadata": {
  "kernelspec": {
   "display_name": "Python 3",
   "language": "python",
   "name": "python3"
  },
  "language_info": {
   "codemirror_mode": {
    "name": "ipython",
    "version": 3
   },
   "file_extension": ".py",
   "mimetype": "text/x-python",
   "name": "python",
   "nbconvert_exporter": "python",
   "pygments_lexer": "ipython3",
   "version": "3.6.2"
  }
 },
 "nbformat": 4,
 "nbformat_minor": 2
}
